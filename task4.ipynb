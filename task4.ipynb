{
 "cells": [
  {
   "cell_type": "code",
   "execution_count": 123,
   "metadata": {},
   "outputs": [],
   "source": [
    "import pickle\n",
    "\n",
    "with open('user_behavior.pkl', 'rb') as f:\n",
    "    user_behavior = pickle.load(f)\n",
    "\n",
    "with open('kmeans.pkl', 'rb') as f:\n",
    "    kmeans = pickle.load(f)\n",
    "\n",
    "with open('cluster_labels.pkl', 'rb') as f:\n",
    "    cluster_labels = pickle.load(f)\n",
    "\n",
    "with open('application_traffic_sum.pkl', 'rb') as f:\n",
    "    application_traffic_sum = pickle.load(f)\n",
    "\n",
    "with open('kmeans_experience_model.pkl', 'rb') as f:\n",
    "    kmeans_experience_model = pickle.load(f)\n",
    "\n",
    "with open('experience_cluster_labels.pkl', 'rb') as f:\n",
    "    experience_cluster_labels = pickle.load(f)\n",
    "\n",
    "with open('aggregated_df.pkl', 'rb') as f:\n",
    "    aggregated_df = pickle.load(f)"
   ]
  },
  {
   "cell_type": "code",
   "execution_count": 124,
   "metadata": {},
   "outputs": [],
   "source": [
    "import numpy as np\n",
    "import pandas as pd"
   ]
  },
  {
   "cell_type": "markdown",
   "metadata": {},
   "source": [
    "Task4 - Satisfaction Analysis:"
   ]
  },
  {
   "cell_type": "code",
   "execution_count": 125,
   "metadata": {},
   "outputs": [],
   "source": [
    "least_engaged_cluster = kmeans.cluster_centers_[np.argmin(kmeans.cluster_centers_[:, 0])].reshape(1, -1)\n",
    "worst_experience_cluster = kmeans_experience_model.cluster_centers_[np.argmin(kmeans_experience_model.cluster_centers_[:, 0])].reshape(1, -1)"
   ]
  },
  {
   "cell_type": "code",
   "execution_count": 126,
   "metadata": {},
   "outputs": [],
   "source": [
    "if worst_experience_cluster.shape[1] != 3:\n",
    "    raise ValueError(\"Worst experience cluster center not found\")"
   ]
  },
  {
   "cell_type": "code",
   "execution_count": 127,
   "metadata": {},
   "outputs": [
    {
     "name": "stdout",
     "output_type": "stream",
     "text": [
      "(1, 3)\n",
      "(1, 3)\n"
     ]
    }
   ],
   "source": [
    "print(least_engaged_cluster.shape)\n",
    "print(worst_experience_cluster.shape)\n"
   ]
  },
  {
   "cell_type": "code",
   "execution_count": 128,
   "metadata": {},
   "outputs": [],
   "source": [
    "user_behavior['engagement_score'] = (user_behavior['Total DL (Bytes)'] + user_behavior['Total UL (Bytes)']) / user_behavior['Total Session Duration']\n",
    "user_behavior['experience_score'] = user_behavior['Dur. (ms)'] / user_behavior['Total Session Duration']"
   ]
  },
  {
   "cell_type": "code",
   "execution_count": 129,
   "metadata": {},
   "outputs": [],
   "source": [
    "least_engaged_cluster = least_engaged_cluster[:, :3]  \n",
    "engagement_scores = np.linalg.norm(user_behavior[['Dur. (ms)', 'Total DL (Bytes)', 'Total UL (Bytes)']] - least_engaged_cluster, axis=1)\n",
    "experience_scores = np.linalg.norm(user_behavior[['Dur. (ms)', 'Total DL (Bytes)', 'Total UL (Bytes)']] - worst_experience_cluster, axis=1)"
   ]
  },
  {
   "cell_type": "code",
   "execution_count": 130,
   "metadata": {},
   "outputs": [],
   "source": [
    "satisfaction_score = (0.6 * engagement_scores) + (0.4 * experience_scores)\n",
    "\n",
    "user_behavior['satisfaction_score'] = satisfaction_score"
   ]
  },
  {
   "cell_type": "code",
   "execution_count": 131,
   "metadata": {},
   "outputs": [
    {
     "name": "stdout",
     "output_type": "stream",
     "text": [
      "               Bearer Id   Dur. (ms)  Total DL (Bytes)  Total UL (Bytes)  \\\n",
      "MSISDN/Number                                                              \n",
      "3.362632e+10        1084  81324722.0      4.942993e+11      4.501432e+10   \n",
      "3.361489e+10          17   9966898.0      8.156743e+09      6.894830e+08   \n",
      "3.376054e+10          15   9279434.0      7.811295e+09      7.034786e+08   \n",
      "3.362578e+10          17  18553754.0      7.770043e+09      7.295774e+08   \n",
      "3.367588e+10          15   4865947.0      7.309542e+09      5.815688e+08   \n",
      "3.365973e+10          16   4035428.0      7.081602e+09      6.242603e+08   \n",
      "3.366646e+10          11   4536757.0      6.903440e+09      4.050610e+08   \n",
      "3.376041e+10          12   5321667.0      6.610852e+09      5.215189e+08   \n",
      "3.366471e+10          11   2927785.0      6.400774e+09      4.712445e+08   \n",
      "3.369879e+10          11   5169128.0      6.010556e+09      5.303431e+08   \n",
      "\n",
      "               Social Media DL (Bytes)  Social Media UL (Bytes)  \\\n",
      "MSISDN/Number                                                     \n",
      "3.362632e+10              1.980459e+09             3.673324e+07   \n",
      "3.361489e+10              2.774974e+07             5.448000e+05   \n",
      "3.376054e+10              3.929765e+07             4.855430e+05   \n",
      "3.362578e+10              2.656412e+07             5.713790e+05   \n",
      "3.367588e+10              1.865536e+07             5.675570e+05   \n",
      "3.365973e+10              3.490044e+07             5.119140e+05   \n",
      "3.366646e+10              1.823492e+07             3.950620e+05   \n",
      "3.376041e+10              2.051577e+07             2.614310e+05   \n",
      "3.366471e+10              1.903573e+07             3.548700e+05   \n",
      "3.369879e+10              1.539078e+07             3.373770e+05   \n",
      "\n",
      "               Google DL (Bytes)  Google UL (Bytes)  Email DL (Bytes)  \\\n",
      "MSISDN/Number                                                           \n",
      "3.362632e+10        6.124049e+09       2.276720e+09      1.937453e+09   \n",
      "3.361489e+10        9.394171e+07       3.403208e+07      3.360721e+07   \n",
      "3.376054e+10        8.862653e+07       3.459657e+07      2.643790e+07   \n",
      "3.362578e+10        1.079047e+08       3.440318e+07      3.189541e+07   \n",
      "3.367588e+10        8.300299e+07       2.685751e+07      2.428472e+07   \n",
      "3.365973e+10        9.095855e+07       2.555780e+07      2.990765e+07   \n",
      "3.366646e+10        6.259921e+07       2.672152e+07      1.966718e+07   \n",
      "3.376041e+10        5.633185e+07       2.640687e+07      2.179130e+07   \n",
      "3.366471e+10        6.494602e+07       2.544336e+07      1.521356e+07   \n",
      "3.369879e+10        5.994399e+07       1.979213e+07      2.416560e+07   \n",
      "\n",
      "               Email UL (Bytes)  ...  Netflix UL (Bytes)  Gaming DL (Bytes)  \\\n",
      "MSISDN/Number                    ...                                          \n",
      "3.362632e+10       5.048464e+08  ...        1.209384e+10       4.594907e+11   \n",
      "3.361489e+10       7.181423e+06  ...        1.818151e+08       7.622035e+09   \n",
      "3.376054e+10       7.255872e+06  ...        1.881424e+08       7.316364e+09   \n",
      "3.362578e+10       8.738554e+06  ...        1.630684e+08       7.171884e+09   \n",
      "3.367588e+10       7.229698e+06  ...        1.474667e+08       6.863307e+09   \n",
      "3.365973e+10       6.092145e+06  ...        2.032419e+08       6.609900e+09   \n",
      "3.366646e+10       5.889958e+06  ...        9.846994e+07       6.546328e+09   \n",
      "3.376041e+10       3.785669e+06  ...        1.513237e+08       6.170943e+09   \n",
      "3.366471e+10       6.212447e+06  ...        1.168572e+08       6.013562e+09   \n",
      "3.369879e+10       4.893443e+06  ...        1.652202e+08       5.641128e+09   \n",
      "\n",
      "               Gaming UL (Bytes)  Other DL (Bytes)  Other UL (Bytes)  \\\n",
      "MSISDN/Number                                                          \n",
      "3.362632e+10        8.874905e+09      4.499538e+11      9.192508e+09   \n",
      "3.361489e+10        1.273968e+08      7.495298e+09      1.439660e+08   \n",
      "3.376054e+10        1.446811e+08      4.590038e+09      1.260962e+08   \n",
      "3.362578e+10        1.547897e+08      6.201653e+09      1.529305e+08   \n",
      "3.367588e+10        1.072606e+08      6.665074e+09      1.334414e+08   \n",
      "3.365973e+10        1.156587e+08      6.182551e+09      1.348649e+08   \n",
      "3.366646e+10        9.997554e+07      4.262205e+09      8.693680e+07   \n",
      "3.376041e+10        9.767668e+07      3.988504e+09      1.131414e+08   \n",
      "3.366471e+10        9.029361e+07      3.868637e+09      1.083234e+08   \n",
      "3.369879e+10        1.126150e+08      4.598153e+09      9.172329e+07   \n",
      "\n",
      "               Total Session Duration  Decile  engagement_score  \\\n",
      "MSISDN/Number                                                     \n",
      "3.362632e+10               81324722.0      D5       6631.607059   \n",
      "3.361489e+10                9966898.0      D5        887.560653   \n",
      "3.376054e+10                9279434.0      D5        917.596263   \n",
      "3.362578e+10               18553754.0      D5        458.107870   \n",
      "3.367588e+10                4865947.0      D5       1621.700896   \n",
      "3.365973e+10                4035428.0      D5       1909.552787   \n",
      "3.366646e+10                4536757.0      D5       1610.952700   \n",
      "3.376041e+10                5321667.0      D5       1340.251187   \n",
      "3.366471e+10                2927785.0      D5       2347.173105   \n",
      "3.369879e+10                5169128.0      D5       1265.377666   \n",
      "\n",
      "               experience_score satisfaction_score  \n",
      "MSISDN/Number                                       \n",
      "3.362632e+10                1.0       4.963447e+11  \n",
      "3.361489e+10                1.0       8.185838e+09  \n",
      "3.376054e+10                1.0       7.842914e+09  \n",
      "3.362578e+10                1.0       7.804242e+09  \n",
      "3.367588e+10                1.0       7.332643e+09  \n",
      "3.365973e+10                1.0       7.109065e+09  \n",
      "3.366646e+10                1.0       6.915315e+09  \n",
      "3.376041e+10                1.0       6.631393e+09  \n",
      "3.366471e+10                1.0       6.418098e+09  \n",
      "3.369879e+10                1.0       6.033910e+09  \n",
      "\n",
      "[10 rows x 23 columns]\n"
     ]
    }
   ],
   "source": [
    "top_10_satisfied_customers = user_behavior.nlargest(10, 'satisfaction_score')\n",
    "print(top_10_satisfied_customers)"
   ]
  },
  {
   "cell_type": "code",
   "execution_count": 133,
   "metadata": {},
   "outputs": [
    {
     "name": "stdout",
     "output_type": "stream",
     "text": [
      "Mean Squared Error: 2.0854095381774086e+17\n"
     ]
    }
   ],
   "source": [
    "from sklearn.model_selection import train_test_split\n",
    "from sklearn.linear_model import LinearRegression\n",
    "from sklearn.metrics import mean_squared_error\n",
    "from sklearn.preprocessing import StandardScaler\n",
    "from sklearn.decomposition import PCA\n",
    "\n",
    "# Split data into training and testing sets\n",
    "X = user_behavior[['engagement_score', 'experience_score']]\n",
    "y = user_behavior['satisfaction_score']\n",
    "X_train, X_test, y_train, y_test = train_test_split(X, y, test_size=0.2, random_state=42)\n",
    "\n",
    "# Feature scaling\n",
    "scaler = StandardScaler()\n",
    "X_train_scaled = scaler.fit_transform(X_train)\n",
    "X_test_scaled = scaler.transform(X_test)\n",
    "\n",
    "# Dimensionality reduction using PCA\n",
    "pca = PCA(n_components=1)\n",
    "X_train_pca = pca.fit_transform(X_train_scaled)\n",
    "X_test_pca = pca.transform(X_test_scaled)\n",
    "\n",
    "# Build a linear regression model\n",
    "model = LinearRegression()\n",
    "model.fit(X_train_pca, y_train)\n",
    "\n",
    "# Make predictions and evaluate the model\n",
    "y_pred = model.predict(X_test_pca)\n",
    "mse = mean_squared_error(y_test, y_pred)\n",
    "print(f'Mean Squared Error: {mse}')"
   ]
  },
  {
   "cell_type": "code",
   "execution_count": 139,
   "metadata": {},
   "outputs": [
    {
     "name": "stdout",
     "output_type": "stream",
     "text": [
      "Mean Squared Error (Decision Tree): 3.629454844187775e+17\n"
     ]
    }
   ],
   "source": [
    "from sklearn.tree import DecisionTreeRegressor\n",
    "\n",
    "# Create a decision tree regressor model\n",
    "model = DecisionTreeRegressor(random_state=42)\n",
    "\n",
    "# Train the model\n",
    "model.fit(X_train_pca, y_train)\n",
    "\n",
    "# Make predictions\n",
    "y_pred = model.predict(X_test_pca)\n",
    "\n",
    "# Evaluate the model\n",
    "mse = mean_squared_error(y_test, y_pred)\n",
    "print(f'Mean Squared Error (Decision Tree): {mse}')"
   ]
  },
  {
   "cell_type": "code",
   "execution_count": 134,
   "metadata": {},
   "outputs": [
    {
     "name": "stdout",
     "output_type": "stream",
     "text": [
      "Average MSE across folds: 3.084895743925757e+18\n"
     ]
    }
   ],
   "source": [
    "from sklearn.model_selection import KFold\n",
    "from sklearn.metrics import mean_squared_error\n",
    "\n",
    "kf = KFold(n_splits=5, shuffle=True, random_state=42)\n",
    "\n",
    "mse_values = []\n",
    "\n",
    "for train_index, test_index in kf.split(X_train_pca):\n",
    "    X_train_fold, X_test_fold = X_train_pca[train_index], X_train_pca[test_index]\n",
    "    y_train_fold, y_test_fold = y_train.iloc[train_index], y_train.iloc[test_index]\n",
    "    \n",
    "    model = LinearRegression()\n",
    "    model.fit(X_train_fold, y_train_fold)\n",
    "    \n",
    "    y_pred_fold = model.predict(X_test_fold)\n",
    "    mse_fold = mean_squared_error(y_test_fold, y_pred_fold)\n",
    "    \n",
    "    mse_values.append(mse_fold)\n",
    "\n",
    "print(\"Average MSE across folds:\", np.mean(mse_values))"
   ]
  },
  {
   "cell_type": "code",
   "execution_count": 140,
   "metadata": {},
   "outputs": [
    {
     "name": "stdout",
     "output_type": "stream",
     "text": [
      "Mean Squared Error (Random Forest): 1.6502627727927777e+18\n"
     ]
    }
   ],
   "source": [
    "from sklearn.ensemble import RandomForestRegressor\n",
    "\n",
    "# Create a random forest regressor model\n",
    "model = RandomForestRegressor(n_estimators=100, random_state=42)\n",
    "\n",
    "# Train the model\n",
    "model.fit(X_train_pca, y_train)\n",
    "\n",
    "# Make predictions\n",
    "y_pred = model.predict(X_test_pca)\n",
    "\n",
    "# Evaluate the model\n",
    "mse = mean_squared_error(y_test, y_pred)\n",
    "print(f'Mean Squared Error (Random Forest): {mse}')\n"
   ]
  },
  {
   "cell_type": "code",
   "execution_count": null,
   "metadata": {},
   "outputs": [],
   "source": [
    "from sklearn.svm import SVR\n",
    "\n",
    "# Create an SVM regressor model\n",
    "model = SVR(kernel='rbf', C=1e3, epsilon=0.1)\n",
    "\n",
    "# Train the model\n",
    "model.fit(X_train_pca, y_train)\n",
    "\n",
    "# Make predictions\n",
    "y_pred = model.predict(X_test_pca)\n",
    "\n",
    "# Evaluate the model\n",
    "mse = mean_squared_error(y_test, y_pred)\n",
    "print(f'Mean Squared Error (SVM): {mse}')"
   ]
  },
  {
   "cell_type": "markdown",
   "metadata": {},
   "source": [
    "Clustering Satisfaction & Experience:"
   ]
  },
  {
   "cell_type": "code",
   "execution_count": 135,
   "metadata": {},
   "outputs": [],
   "source": [
    "from sklearn.cluster import KMeans\n",
    "\n",
    "# Select the relevant columns\n",
    "X = user_behavior[['engagement_score', 'experience_score']]"
   ]
  },
  {
   "cell_type": "code",
   "execution_count": 136,
   "metadata": {},
   "outputs": [
    {
     "name": "stdout",
     "output_type": "stream",
     "text": [
      "               satisfaction_score  experience_score\n",
      "cluster_label                                      \n",
      "0                    6.335183e+08               1.0\n",
      "1                    7.295689e+08               1.0\n"
     ]
    }
   ],
   "source": [
    "from sklearn.cluster import KMeans\n",
    "from sklearn.preprocessing import StandardScaler\n",
    "\n",
    "# Select the relevant columns\n",
    "X = user_behavior[['engagement_score', 'experience_score']]\n",
    "\n",
    "# Scale the data\n",
    "scaler = StandardScaler()\n",
    "X_scaled = scaler.fit_transform(X)\n",
    "\n",
    "# Run k-means clustering (k=2)\n",
    "kmeans = KMeans(n_clusters=2, random_state=42)\n",
    "cluster_labels = kmeans.fit_predict(X_scaled)\n",
    "\n",
    "# Add the cluster labels to the user_behavior dataframe\n",
    "user_behavior['cluster_label'] = cluster_labels\n",
    "\n",
    "cluster_scores = user_behavior.groupby('cluster_label')[['satisfaction_score', 'experience_score']].mean()\n",
    "\n",
    "# Print the results\n",
    "print(cluster_scores)"
   ]
  },
  {
   "cell_type": "code",
   "execution_count": 137,
   "metadata": {},
   "outputs": [
    {
     "data": {
      "image/png": "[encoded data removed]",
      "text/plain": [
       "<Figure size 640x480 with 1 Axes>"
      ]
     },
     "metadata": {},
     "output_type": "display_data"
    }
   ],
   "source": [
    "import matplotlib.pyplot as plt\n",
    "import numpy as np\n",
    "\n",
    "# Define the scores for each cluster\n",
    "cluster_scores = np.array([\n",
    "    [6.375651e+08, 6.375651e+08],  # Cluster 0\n",
    "    [4.963447e+11, 4.963447e+11]   # Cluster 1\n",
    "])\n",
    "\n",
    "# Scale the values down\n",
    "scaled_scores = cluster_scores / 1e10\n",
    "\n",
    "# Define the labels\n",
    "cluster_labels = ['Cluster 0', 'Cluster 1']\n",
    "score_labels = ['Satisfaction Score', 'Experience Score']\n",
    "\n",
    "# Create the bar chart\n",
    "x = np.arange(len(cluster_labels))\n",
    "width = 0.35\n",
    "\n",
    "fig, ax = plt.subplots()\n",
    "rects1 = ax.bar(x - width/2, scaled_scores[:, 0], width, label=score_labels[0])\n",
    "rects2 = ax.bar(x + width/2, scaled_scores[:, 1], width, label=score_labels[1])\n",
    "\n",
    "# Set the labels and title\n",
    "ax.set_xlabel('Cluster Label')\n",
    "ax.set_ylabel('Score (x10^10)')\n",
    "ax.set_title('Cluster Scores')\n",
    "ax.set_xticks(x)\n",
    "ax.set_xticklabels(cluster_labels)\n",
    "ax.legend()\n",
    "\n",
    "plt.show()\n"
   ]
  },
  {
   "cell_type": "code",
   "execution_count": 138,
   "metadata": {},
   "outputs": [],
   "source": [
    "import pickle\n",
    "\n",
    "# Assuming you have the necessary data in the 'user_behavior' dataframe\n",
    "data_to_save = user_behavior[['engagement_score', 'experience_score', 'satisfaction_score']]\n",
    "\n",
    "# Save the data to a Pickle file\n",
    "with open('task4_data.pkl', 'wb') as f:\n",
    "    pickle.dump(data_to_save, f)"
   ]
  }
 ],
 "metadata": {
  "kernelspec": {
   "display_name": "Python 3",
   "language": "python",
   "name": "python3"
  },
  "language_info": {
   "codemirror_mode": {
    "name": "ipython",
    "version": 3
   },
   "file_extension": ".py",
   "mimetype": "text/x-python",
   "name": "python",
   "nbconvert_exporter": "python",
   "pygments_lexer": "ipython3",
   "version": "3.11.9"
  }
 },
 "nbformat": 4,
 "nbformat_minor": 2
}
