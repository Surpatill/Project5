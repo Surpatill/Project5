{
 "cells": [
  {
   "cell_type": "code",
   "execution_count": 46,
   "metadata": {},
   "outputs": [],
   "source": [
    "import mysql.connector\n",
    "import pandas as pd\n",
    "\n",
    "# Establish a connection to the MySQL database\n",
    "conn = mysql.connector.connect(\n",
    "    user='root',\n",
    "    password='Sursurpatil@4',\n",
    "    host='127.0.0.1',\n",
    "    database='user_analytics'\n",
    ")\n",
    "\n",
    "# Create a cursor object\n",
    "cursor = conn.cursor()\n"
   ]
  },
  {
   "cell_type": "code",
   "execution_count": 47,
   "metadata": {},
   "outputs": [],
   "source": [
    "DATA_PATH = r'E:\\Project5\\telcom_data p5.csv'\n",
    "data = pd.read_csv(DATA_PATH)"
   ]
  },
  {
   "cell_type": "code",
   "execution_count": 48,
   "metadata": {},
   "outputs": [],
   "source": [
    "import pickle\n",
    "\n",
    "# Load the saved data from Task 4\n",
    "with open('task4_data.pkl', 'rb') as f:\n",
    "    data = pickle.load(f)"
   ]
  },
  {
   "cell_type": "code",
   "execution_count": 49,
   "metadata": {},
   "outputs": [
    {
     "name": "stdout",
     "output_type": "stream",
     "text": [
      "Engagement: 7528.192032213845, Experience: 1.0, Satisfaction: 843408406.6179165\n",
      "Engagement: 865.5280196435468, Experience: 1.0, Satisfaction: 126037214.51034226\n",
      "Engagement: 4415.580488852996, Experience: 1.0, Satisfaction: 558045719.8281446\n",
      "Engagement: 8467.073619631901, Experience: 1.0, Satisfaction: 402506796.99645627\n",
      "Engagement: 39279.07891332471, Experience: 1.0, Satisfaction: 1366386971.0266485\n",
      "Engagement: 2422.2771642196526, Experience: 1.0, Satisfaction: 558441641.8517305\n",
      "Engagement: 5100.678295419134, Experience: 1.0, Satisfaction: 562311119.5873492\n",
      "Engagement: 3850.280176853899, Experience: 1.0, Satisfaction: 296604270.19574654\n",
      "Engagement: 1997.4343234443274, Experience: 1.0, Satisfaction: 901430037.6902843\n",
      "Engagement: 5866.562232687779, Experience: 1.0, Satisfaction: 686988638.9371362\n"
     ]
    }
   ],
   "source": [
    "for index, row in data.head(10).iterrows():\n",
    " print(f\"Engagement: {row['engagement_score']}, Experience: {row['experience_score']}, Satisfaction: {row['satisfaction_score']}\")"
   ]
  },
  {
   "cell_type": "code",
   "execution_count": 50,
   "metadata": {},
   "outputs": [],
   "source": [
    "for index, row in data.iterrows():\n",
    "    sql = \"INSERT INTO user_data (engagement_score, experience_score, satisfaction_score) VALUES (%s, %s, %s)\"\n",
    "    val = (float(row['engagement_score']), float(row['experience_score']), float(row['satisfaction_score']))\n",
    "    cursor.execute(sql, val)\n",
    "\n",
    "conn.commit()\n",
    "cursor.close()\n",
    "conn.close()"
   ]
  }
 ],
 "metadata": {
  "kernelspec": {
   "display_name": "Python 3",
   "language": "python",
   "name": "python3"
  },
  "language_info": {
   "codemirror_mode": {
    "name": "ipython",
    "version": 3
   },
   "file_extension": ".py",
   "mimetype": "text/x-python",
   "name": "python",
   "nbconvert_exporter": "python",
   "pygments_lexer": "ipython3",
   "version": "3.11.9"
  }
 },
 "nbformat": 4,
 "nbformat_minor": 2
}
