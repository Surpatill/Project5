{
 "cells": [
  {
   "cell_type": "markdown",
   "metadata": {},
   "source": [
    "Establishing a connection to the MySQL database"
   ]
  },
  {
   "cell_type": "code",
   "execution_count": 15,
   "metadata": {},
   "outputs": [],
   "source": [
    "import mysql.connector\n",
    "import pandas as pd\n",
    "\n",
    "conn = mysql.connector.connect(\n",
    "    user='root',\n",
    "    password='Sursurpatil@4',\n",
    "    host='127.0.0.1',\n",
    "    database='user_analytics'\n",
    ")\n",
    "\n",
    "cursor = conn.cursor()\n"
   ]
  },
  {
   "cell_type": "code",
   "execution_count": 16,
   "metadata": {},
   "outputs": [],
   "source": [
    "DATA_PATH = r'E:\\Project5\\telcom_data p5.csv'\n",
    "data = pd.read_csv(DATA_PATH)"
   ]
  },
  {
   "cell_type": "markdown",
   "metadata": {},
   "source": [
    "Loading the saved data from Task 4"
   ]
  },
  {
   "cell_type": "code",
   "execution_count": 17,
   "metadata": {},
   "outputs": [],
   "source": [
    "import pickle\n",
    "\n",
    "with open('task4_data.pkl', 'rb') as f:\n",
    "    data = pickle.load(f)"
   ]
  },
  {
   "cell_type": "code",
   "execution_count": 18,
   "metadata": {},
   "outputs": [
    {
     "name": "stdout",
     "output_type": "stream",
     "text": [
      "Engagement: 7528.192032213845, Experience: 1.0, Satisfaction: 843408406.6170448\n",
      "Engagement: 865.5280196435468, Experience: 1.0, Satisfaction: 126037214.509565\n",
      "Engagement: 4415.580488852996, Experience: 1.0, Satisfaction: 558045719.8272809\n",
      "Engagement: 8467.073619631901, Experience: 1.0, Satisfaction: 402506796.99558675\n",
      "Engagement: 39279.07891332471, Experience: 1.0, Satisfaction: 1366386971.0257843\n",
      "Engagement: 2422.2771642196526, Experience: 1.0, Satisfaction: 558441641.8508786\n",
      "Engagement: 5100.678295419134, Experience: 1.0, Satisfaction: 562311119.5865241\n",
      "Engagement: 3850.280176853899, Experience: 1.0, Satisfaction: 296604270.19490236\n",
      "Engagement: 1997.4343234443274, Experience: 1.0, Satisfaction: 901430037.6894312\n",
      "Engagement: 5866.562232687779, Experience: 1.0, Satisfaction: 686988638.9362719\n"
     ]
    }
   ],
   "source": [
    "for index, row in data.head(10).iterrows():\n",
    " print(f\"Engagement: {row['engagement_score']}, Experience: {row['experience_score']}, Satisfaction: {row['satisfaction_score']}\")"
   ]
  },
  {
   "cell_type": "code",
   "execution_count": 19,
   "metadata": {},
   "outputs": [],
   "source": [
    "for index, row in data.iterrows():\n",
    "    sql = \"INSERT INTO user_data (engagement_score, experience_score, satisfaction_score) VALUES (%s, %s, %s)\"\n",
    "    val = (float(row['engagement_score']), float(row['experience_score']), float(row['satisfaction_score']))\n",
    "    cursor.execute(sql, val)\n",
    "\n",
    "conn.commit()\n",
    "cursor.close()\n",
    "conn.close()"
   ]
  },
  {
   "cell_type": "code",
   "execution_count": 20,
   "metadata": {},
   "outputs": [
    {
     "ename": "NameError",
     "evalue": "name 'user_behavior' is not defined",
     "output_type": "error",
     "traceback": [
      "\u001b[1;31m---------------------------------------------------------------------------\u001b[0m",
      "\u001b[1;31mNameError\u001b[0m                                 Traceback (most recent call last)",
      "Cell \u001b[1;32mIn[20], line 9\u001b[0m\n\u001b[0;32m      6\u001b[0m \u001b[38;5;28;01mfrom\u001b[39;00m\u001b[38;5;250m \u001b[39m\u001b[38;5;21;01msklearn\u001b[39;00m\u001b[38;5;21;01m.\u001b[39;00m\u001b[38;5;21;01mdecomposition\u001b[39;00m\u001b[38;5;250m \u001b[39m\u001b[38;5;28;01mimport\u001b[39;00m PCA\n\u001b[0;32m      8\u001b[0m \u001b[38;5;66;03m# Split data into training and testing sets\u001b[39;00m\n\u001b[1;32m----> 9\u001b[0m X \u001b[38;5;241m=\u001b[39m \u001b[43muser_behavior\u001b[49m[[\u001b[38;5;124m'\u001b[39m\u001b[38;5;124mengagement_score\u001b[39m\u001b[38;5;124m'\u001b[39m, \u001b[38;5;124m'\u001b[39m\u001b[38;5;124mexperience_score\u001b[39m\u001b[38;5;124m'\u001b[39m]]\n\u001b[0;32m     10\u001b[0m y \u001b[38;5;241m=\u001b[39m user_behavior[\u001b[38;5;124m'\u001b[39m\u001b[38;5;124msatisfaction_score\u001b[39m\u001b[38;5;124m'\u001b[39m]\n\u001b[0;32m     11\u001b[0m X_train, X_test, y_train, y_test \u001b[38;5;241m=\u001b[39m train_test_split(X, y, test_size\u001b[38;5;241m=\u001b[39m\u001b[38;5;241m0.2\u001b[39m, random_state\u001b[38;5;241m=\u001b[39m\u001b[38;5;241m42\u001b[39m)\n",
      "\u001b[1;31mNameError\u001b[0m: name 'user_behavior' is not defined"
     ]
    }
   ],
   "source": [
    "import mlflow\n",
    "from sklearn.model_selection import train_test_split\n",
    "from sklearn.linear_model import LinearRegression\n",
    "from sklearn.metrics import mean_squared_error\n",
    "from sklearn.preprocessing import StandardScaler\n",
    "from sklearn.decomposition import PCA\n",
    "\n",
    "# Split data into training and testing sets\n",
    "X = user_behavior[['engagement_score', 'experience_score']]\n",
    "y = user_behavior['satisfaction_score']\n",
    "X_train, X_test, y_train, y_test = train_test_split(X, y, test_size=0.2, random_state=42)\n",
    "\n",
    "# Feature scaling\n",
    "scaler = StandardScaler()\n",
    "X_train_scaled = scaler.fit_transform(X_train)\n",
    "X_test_scaled = scaler.transform(X_test)\n",
    "\n",
    "# Dimensionality reduction using PCA\n",
    "pca = PCA(n_components=1)\n",
    "X_train_pca = pca.fit_transform(X_train_scaled)\n",
    "X_test_pca = pca.transform(X_test_scaled)\n",
    "\n",
    "with mlflow.start_run():\n",
    "    # Log parameters\n",
    "    mlflow.log_param(\"n_components\", pca.n_components)\n",
    "    mlflow.log_param(\"test_size\", 0.2)\n",
    "    mlflow.log_param(\"random_state\", 42)\n",
    "\n",
    "    # Train model\n",
    "    model = LinearRegression()\n",
    "    model.fit(X_train_pca, y_train)\n",
    "\n",
    "    # Make predictions\n",
    "    y_pred = model.predict(X_test_pca)\n",
    "\n",
    "    # Log metrics\n",
    "    mse = mean_squared_error(y_test, y_pred)\n",
    "    mlflow.log_metric(\"mse\", mse)\n",
    "\n",
    "    # Log artifacts\n",
    "    mlflow.sklearn.log_model(model, \"model\")\n",
    "\n"
   ]
  }
 ],
 "metadata": {
  "kernelspec": {
   "display_name": "Python 3",
   "language": "python",
   "name": "python3"
  },
  "language_info": {
   "codemirror_mode": {
    "name": "ipython",
    "version": 3
   },
   "file_extension": ".py",
   "mimetype": "text/x-python",
   "name": "python",
   "nbconvert_exporter": "python",
   "pygments_lexer": "ipython3",
   "version": "3.11.9"
  }
 },
 "nbformat": 4,
 "nbformat_minor": 2
}
